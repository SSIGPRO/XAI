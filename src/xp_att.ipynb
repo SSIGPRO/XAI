{
 "cells": [
  {
   "cell_type": "markdown",
   "id": "e7322696-7e50-44ca-9430-5d11a007f70e",
   "metadata": {},
   "source": [
    "# ATTACKS"
   ]
  },
  {
   "cell_type": "code",
   "execution_count": 2,
   "id": "9cdae8f8-99f2-4d53-b752-92a65cef288a",
   "metadata": {},
   "outputs": [],
   "source": [
    "from tensordict import TensorDict\n",
    "from tensordict import MemoryMappedTensor as MMT"
   ]
  },
  {
   "cell_type": "code",
   "execution_count": 1,
   "id": "161bbac4-8a91-46a3-85b4-c29e57da4ab9",
   "metadata": {},
   "outputs": [],
   "source": [
    "import torchattacks"
   ]
  },
  {
   "cell_type": "code",
   "execution_count": 1,
   "id": "c2e07c2b-dcdd-4555-b165-39e4852275a9",
   "metadata": {},
   "outputs": [
    {
     "name": "stdout",
     "output_type": "stream",
     "text": [
      "Using cuda:5 device\n",
      "dataset: CIFAR100\n",
      "Files already downloaded and verified\n",
      "Files already downloaded and verified\n"
     ]
    },
    {
     "data": {
      "text/plain": [
       "{'train': <torch.utils.data.dataloader.DataLoader at 0x7f1155fefe60>,\n",
       " 'val': <torch.utils.data.dataloader.DataLoader at 0x7f11560f1790>,\n",
       " 'test': <torch.utils.data.dataloader.DataLoader at 0x7f115df98aa0>}"
      ]
     },
     "execution_count": 1,
     "metadata": {},
     "output_type": "execute_result"
    }
   ],
   "source": [
    "# python stuff\n",
    "\n",
    "from pathlib import Path as Path\n",
    "from numpy.random import randint\n",
    "\n",
    "# Our stuff\n",
    "from datasets.cifar import Cifar\n",
    "from models.model_wrap import ModelWrap\n",
    "\n",
    "# from credibility import get_credibility\n",
    "\n",
    "# torch stuff\n",
    "import torch\n",
    "from torchvision.models import vgg16, VGG16_Weights\n",
    "from peepholes.peepholes import Peepholes\n",
    "from peepholes.svd_peepholes import peep_matrices_from_svds as parser_fn\n",
    "from credibility.DkNN import NearestNeighbor, DkNN\n",
    "\n",
    "\n",
    "use_cuda = torch.cuda.is_available()\n",
    "cuda_index = torch.cuda.device_count() - 3\n",
    "device = torch.device(f\"cuda:{cuda_index}\" if use_cuda else \"cpu\")\n",
    "print(f\"Using {device} device\")\n",
    "\n",
    "#--------------------------------\n",
    "# Dataset \n",
    "#--------------------------------\n",
    "# model parameters\n",
    "dataset = 'CIFAR100' \n",
    "seed = 29\n",
    "bs = 64\n",
    "data_path = '/srv/newpenny/XAI/LM/data/CIFAR100'\n",
    "\n",
    "ds = Cifar(dataset=dataset, data_path=data_path)\n",
    "ds.load_data(\n",
    "        batch_size = bs,\n",
    "        data_kwargs = {'num_workers': 4, 'pin_memory': True},\n",
    "        seed = seed,\n",
    "        )"
   ]
  },
  {
   "cell_type": "code",
   "execution_count": 3,
   "id": "8a681bbf-38bd-491c-9423-81a6c5cd669f",
   "metadata": {
    "scrolled": true
   },
   "outputs": [
    {
     "name": "stderr",
     "output_type": "stream",
     "text": [
      "/home/lorenzocapelli/repos/XAI/src/models/model_wrap.py:121: FutureWarning: You are using `torch.load` with `weights_only=False` (the current default value), which uses the default pickle module implicitly. It is possible to construct malicious pickle data which will execute arbitrary code during unpickling (See https://github.com/pytorch/pytorch/blob/main/SECURITY.md#untrusted-models for more details). In a future release, the default value for `weights_only` will be flipped to `True`. This limits the functions that could be executed during unpickling. Arbitrary objects will no longer be allowed to be loaded via this mode unless they are explicitly allowlisted by the user via `torch.serialization.add_safe_globals`. We recommend you start setting `weights_only=True` for any use case where you don't have full control of the loaded file. Please open an issue on GitHub for any issues related to this experimental feature.\n",
      "  self._checkpoint = torch.load(file, map_location=self.device)\n"
     ]
    },
    {
     "name": "stdout",
     "output_type": "stream",
     "text": [
      "\n",
      "-----------------\n",
      "checkpoint\n",
      "-----------------\n",
      "state_dict keys: \n",
      " odict_keys(['features.0.weight', 'features.0.bias', 'features.2.weight', 'features.2.bias', 'features.5.weight', 'features.5.bias', 'features.7.weight', 'features.7.bias', 'features.10.weight', 'features.10.bias', 'features.12.weight', 'features.12.bias', 'features.14.weight', 'features.14.bias', 'features.17.weight', 'features.17.bias', 'features.19.weight', 'features.19.bias', 'features.21.weight', 'features.21.bias', 'features.24.weight', 'features.24.bias', 'features.26.weight', 'features.26.bias', 'features.28.weight', 'features.28.bias', 'classifier.0.weight', 'classifier.0.bias', 'classifier.3.weight', 'classifier.3.bias', 'classifier.6.weight', 'classifier.6.bias']) \n",
      "\n",
      "train_loss 1.4151224618911744\n",
      "val_loss 0.8791644280883157\n",
      "train_accuracy 62.295\n",
      "val_accuracy 74.96000000000001\n",
      "epoch 59\n",
      "batch_size 64\n",
      "lr 0.001\n",
      "-----------------\n",
      "\n",
      "target layers:  {'classifier.0': Linear(in_features=25088, out_features=4096, bias=True)}\n",
      "File /home/lorenzocapelli/repos/XAI/src/../data/svdsBanana/svdsBatata exists. Loading from disk.\n",
      "Layers to compute SVDs:  []\n",
      "saving /home/lorenzocapelli/repos/XAI/src/../data/svdsBanana/svdsBatata\n",
      "svd shapes:  classifier.0 torch.Size([4096, 25089])\n",
      "svd shapes:  classifier.3 torch.Size([4096, 4097])\n",
      "svd shapes:  features.28 torch.Size([300, 131073])\n",
      "\n",
      " ---- Getting data from train\n",
      "\n",
      "File /home/lorenzocapelli/repos/XAI/src/../data/peepholes/peepholes.train exists. Loading from disk.\n",
      "loaded n_samples:  40000\n",
      "\n",
      " ---- Getting data from val\n",
      "\n",
      "File /home/lorenzocapelli/repos/XAI/src/../data/peepholes/peepholes.val exists. Loading from disk.\n",
      "loaded n_samples:  10000\n",
      "\n",
      " ---- Getting data from test\n",
      "\n",
      "File /home/lorenzocapelli/repos/XAI/src/../data/peepholes/peepholes.test exists. Loading from disk.\n",
      "loaded n_samples:  10000\n",
      "\n",
      " ---- Getting activations for train\n",
      "\n",
      "In activations exist.\n",
      "Out activations exist.\n",
      "Layers to save:  []\n",
      "No new activations for train, skipping\n",
      "\n",
      " ---- Getting activations for val\n",
      "\n",
      "In activations exist.\n",
      "Out activations exist.\n",
      "Layers to save:  []\n",
      "No new activations for val, skipping\n",
      "\n",
      " ---- Getting activations for test\n",
      "\n",
      "In activations exist.\n",
      "Out activations exist.\n",
      "Layers to save:  []\n",
      "No new activations for test, skipping\n",
      "\n",
      " ---- Getting peepholes for train\n",
      "\n",
      "Peepholes TensorDict exists.\n",
      "peep_m shape:  torch.Size([4096, 25089])\n",
      "Layers to save:  []\n",
      "No new peepholes for train, skipping\n",
      "\n",
      " ---- Getting peepholes for val\n",
      "\n",
      "Peepholes TensorDict exists.\n",
      "peep_m shape:  torch.Size([4096, 25089])\n",
      "Layers to save:  []\n",
      "No new peepholes for val, skipping\n",
      "\n",
      " ---- Getting peepholes for test\n",
      "\n",
      "Peepholes TensorDict exists.\n",
      "peep_m shape:  torch.Size([4096, 25089])\n",
      "Layers to save:  []\n",
      "No new peepholes for test, skipping\n"
     ]
    }
   ],
   "source": [
    "#--------------------------------\n",
    "# Model \n",
    "#--------------------------------\n",
    "pretrained = True\n",
    "model_dir = '/srv/newpenny/XAI/LM/models'\n",
    "model_name = f'vgg16_pretrained={pretrained}_dataset={dataset}-'\\\n",
    "f'augmented_policy=CIFAR10_bs={bs}_seed={seed}.pth'\n",
    "\n",
    "nn = vgg16(weights=VGG16_Weights.IMAGENET1K_V1)\n",
    "in_features = 4096\n",
    "num_classes = len(ds.get_classes()) \n",
    "nn.classifier[-1] = torch.nn.Linear(in_features, num_classes)\n",
    "model = ModelWrap(device=device)\n",
    "model.set_model(model=nn, path=model_dir, name=model_name, verbose=True)\n",
    "              \n",
    "model.set_target_layers(target_layers=layers_dict, verbose=True)\n",
    "print('target layers: ', model.get_target_layers()) \n",
    "\n",
    "direction = {'save_input':True, 'save_output':False}\n",
    "model.add_hooks(**direction, verbose=False) \n",
    "\n",
    "dry_img, _ = ds._train_ds.dataset[0]\n",
    "dry_img = dry_img.reshape((1,)+dry_img.shape)\n",
    "model.dry_run(x=dry_img)\n",
    "\n",
    "loaders = ds.get_dataset_loaders()"
   ]
  },
  {
   "cell_type": "markdown",
   "id": "6dcc8053-9e07-4c67-a37c-90af3171b584",
   "metadata": {},
   "source": [
    "## BIM"
   ]
  },
  {
   "cell_type": "code",
   "execution_count": null,
   "id": "19b047f8-7118-4c3f-93cd-4e7cff3e5073",
   "metadata": {},
   "outputs": [],
   "source": [
    "nb_classes = ds.config['num_classes']"
   ]
  },
  {
   "cell_type": "code",
   "execution_count": null,
   "id": "99fd2ddc-da40-432b-b5f7-f92d792251b2",
   "metadata": {},
   "outputs": [],
   "source": [
    "attack = torchattacks.BIM(model, eps=8/255, alpha=2/255, steps=10)\n",
    "attack_TensorDict = TensorDict()\n",
    "for ds_key, dataloader in ds.items():\n",
    "    n_samples = len(dataloader.dataset)\n",
    "    portion_TensorDict = TensorDict(batch_size=n_samples)\n",
    "    portion_TensorDict['image'] = MMT.empty(shape=torch.Size((n_samples,)))\n",
    "    portion_TensorDict['label'] = MMT.empty(shape=torch.Size((n_samples,)))\n",
    "    portion_TensorDict['output'] = MMT.empty(shape=torch.Size((n_samples,)+(nb_classes,)))\n",
    "    portion_TensorDict['attack_succes'] = MMT.empty(shape=torch.Size((n_samples,)))\n",
    "    for data in dataloader:\n",
    "        adv_images = attack(images, labels)\n",
    "        "
   ]
  }
 ],
 "metadata": {
  "kernelspec": {
   "display_name": "Python 3 (ipykernel)",
   "language": "python",
   "name": "python3"
  },
  "language_info": {
   "codemirror_mode": {
    "name": "ipython",
    "version": 3
   },
   "file_extension": ".py",
   "mimetype": "text/x-python",
   "name": "python",
   "nbconvert_exporter": "python",
   "pygments_lexer": "ipython3",
   "version": "3.12.4"
  }
 },
 "nbformat": 4,
 "nbformat_minor": 5
}
