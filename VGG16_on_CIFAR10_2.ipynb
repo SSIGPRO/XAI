{
 "cells": [
  {
   "cell_type": "markdown",
   "id": "237fa7d0-3dc0-4537-a569-c422a1c53873",
   "metadata": {},
   "source": [
    "## VGG16 architecture on the CIFAR10 dataset\n",
    "\n",
    "To explore explainability of a neural network we start from a first simple architecture and a simple dataset as a reference.  Therefore, we choose to start from the VGG16 acrhitecture and a CIFAR 10 dataset. \n",
    "\n",
    "CIFAR10 is a smaller dataset containing only 10 different classes and the images have a resoultion of 32x32. For the sake of curiosity, we decided to train the same architecture VGG16 in two different ways:\n",
    "\n",
    "1. The VGG16 architecture can be found pretrained on the ImageNet dataset and it is possible to tune it on the chosen CIFAR10 dataset. We perfomr the so called Transfer learning\n",
    "2. The alternative solution is training directly the architecture on CIFAR10"
   ]
  },
  {
   "cell_type": "code",
   "execution_count": 1,
   "id": "a4bc0eae-80aa-4014-865b-c3af4f59ab28",
   "metadata": {},
   "outputs": [
    {
     "name": "stderr",
     "output_type": "stream",
     "text": [
      "/home/lorenzocapelli/miniconda3/envs/tesi/lib/python3.10/site-packages/tqdm/auto.py:21: TqdmWarning: IProgress not found. Please update jupyter and ipywidgets. See https://ipywidgets.readthedocs.io/en/stable/user_install.html\n",
      "  from .autonotebook import tqdm as notebook_tqdm\n"
     ]
    },
    {
     "name": "stdout",
     "output_type": "stream",
     "text": [
      "Using cuda:4 device\n"
     ]
    }
   ],
   "source": [
    "import torch\n",
    "import torch.nn as nn\n",
    "import torch.nn.functional as F\n",
    "import torchvision\n",
    "import torchvision.transforms as transforms\n",
    "from torchvision import models\n",
    "from torchvision.models import vgg16\n",
    "import numpy as np\n",
    "import pandas as pd\n",
    "import matplotlib.pyplot as plt\n",
    "import seaborn as sns\n",
    "from torch.utils.data import DataLoader, random_split\n",
    "from torchvision.datasets import CIFAR10\n",
    "\n",
    "use_cuda = torch.cuda.is_available()\n",
    "cuda_index = torch.cuda.device_count() - 4\n",
    "device = torch.device(f\"cuda:{cuda_index}\" if use_cuda else \"cpu\")\n",
    "print(f\"Using {device} device\")\n",
    "abs_data_path = 'newpenny/XAI/pytorch/zennit/docs/source/data/CIFAR10'\n",
    "\n",
    "\n",
    "# definition of some of the hyperparameters used for the training\n",
    "num_epochs = 2000\n",
    "batch_size = 64\n",
    "learning_rate = 0.001\n",
    "classes = ('plane', 'car' , 'bird',\n",
    "    'cat', 'deer', 'dog',\n",
    "    'frog', 'horse', 'ship', 'truck')"
   ]
  },
  {
   "cell_type": "markdown",
   "id": "ad79bd8d-cbbe-45f3-8150-efc6af03b481",
   "metadata": {},
   "source": [
    "We adapted the dataset CIFAR10 to the architecture VGG16. The images contained in CIFAR10 have a resolution of 32x32 while the first layer of VGG16 requires as a layer a tensor with resolution 224x224. As a consequence, we decided to oversample the given images in order to be coherent to the given architecture"
   ]
  },
  {
   "cell_type": "code",
   "execution_count": 2,
   "id": "cb31aba7-dfed-4cd4-96e2-0882ee15694d",
   "metadata": {},
   "outputs": [
    {
     "name": "stdout",
     "output_type": "stream",
     "text": [
      "Files already downloaded and verified\n"
     ]
    }
   ],
   "source": [
    "transform = transforms.Compose([\n",
    "    transforms.Resize(size=(224, 224)),\n",
    "    transforms.ToTensor(),\n",
    "    transforms.Normalize( \n",
    "       (0.4914, 0.4822, 0.4465), (0.2023, 0.1994, 0.2010) \n",
    "    )\n",
    "])\n",
    "\n",
    "cifar_dataset = CIFAR10(root=abs_data_path, \n",
    "                        train=True, \n",
    "                        transform=transform, \n",
    "                        download=True)\n",
    "\n",
    "# split the dataset into train and validation sets\n",
    "seed=29\n",
    "train_size = int(0.8 * len(cifar_dataset))\n",
    "val_size = len(cifar_dataset) - train_size\n",
    "train_dataset, val_dataset = random_split(cifar_dataset,\n",
    "                                          [train_size, val_size],\n",
    "                                            generator=torch.Generator().manual_seed(seed))\n",
    "\n",
    "# create DataLoaders\n",
    "train_loader = DataLoader(train_dataset, batch_size=batch_size, shuffle=True)\n",
    "val_loader = DataLoader(val_dataset, batch_size=batch_size, shuffle=False)\n"
   ]
  },
  {
   "cell_type": "code",
   "execution_count": 3,
   "id": "240784ba-af34-4daf-b063-6c8be0169a87",
   "metadata": {},
   "outputs": [
    {
     "name": "stdout",
     "output_type": "stream",
     "text": [
      "Files already downloaded and verified\n"
     ]
    }
   ],
   "source": [
    "test_dataset = torchvision.datasets.CIFAR10(root=abs_data_path, \n",
    "                                            train=False, \n",
    "                                            download=True, \n",
    "                                            transform=transform)\n",
    "\n",
    "test_loader = torch.utils.data.DataLoader(test_dataset, batch_size=batch_size, shuffle=False)"
   ]
  },
  {
   "cell_type": "code",
   "execution_count": 4,
   "id": "51ed96f1-741c-4cc5-b29d-a131789661ac",
   "metadata": {},
   "outputs": [
    {
     "name": "stdout",
     "output_type": "stream",
     "text": [
      "(64, 3, 224, 224)\n"
     ]
    }
   ],
   "source": [
    "for i, (imgs , labels) in enumerate(train_loader):\n",
    "    #imgs = imgs.to(device)\n",
    "    #labels = labels.to(device)\n",
    "    imgs=imgs.detach().to('cpu').numpy()\n",
    "    print(imgs.shape)\n",
    "    break\n",
    "    "
   ]
  },
  {
   "cell_type": "markdown",
   "id": "b68b7b6c-2d78-468e-9a1f-e35ade2278de",
   "metadata": {},
   "source": [
    "### VGG16 PRETRAINED "
   ]
  },
  {
   "cell_type": "markdown",
   "id": "07382b06-b87c-4b0b-a300-97892022ce9a",
   "metadata": {},
   "source": [
    "At this point we downloaded the ImageNet pretrained VGG16 architecture and we just modified the last FC-layer, because in our case instead of having 1000 classes we have just 10 of them."
   ]
  },
  {
   "cell_type": "code",
   "execution_count": 11,
   "id": "c437b337-66b4-47ef-ac39-599390b2c70c",
   "metadata": {},
   "outputs": [
    {
     "data": {
      "text/plain": [
       "VGG(\n",
       "  (features): Sequential(\n",
       "    (0): Conv2d(3, 64, kernel_size=(3, 3), stride=(1, 1), padding=(1, 1))\n",
       "    (1): ReLU(inplace=True)\n",
       "    (2): Conv2d(64, 64, kernel_size=(3, 3), stride=(1, 1), padding=(1, 1))\n",
       "    (3): ReLU(inplace=True)\n",
       "    (4): MaxPool2d(kernel_size=2, stride=2, padding=0, dilation=1, ceil_mode=False)\n",
       "    (5): Conv2d(64, 128, kernel_size=(3, 3), stride=(1, 1), padding=(1, 1))\n",
       "    (6): ReLU(inplace=True)\n",
       "    (7): Conv2d(128, 128, kernel_size=(3, 3), stride=(1, 1), padding=(1, 1))\n",
       "    (8): ReLU(inplace=True)\n",
       "    (9): MaxPool2d(kernel_size=2, stride=2, padding=0, dilation=1, ceil_mode=False)\n",
       "    (10): Conv2d(128, 256, kernel_size=(3, 3), stride=(1, 1), padding=(1, 1))\n",
       "    (11): ReLU(inplace=True)\n",
       "    (12): Conv2d(256, 256, kernel_size=(3, 3), stride=(1, 1), padding=(1, 1))\n",
       "    (13): ReLU(inplace=True)\n",
       "    (14): Conv2d(256, 256, kernel_size=(3, 3), stride=(1, 1), padding=(1, 1))\n",
       "    (15): ReLU(inplace=True)\n",
       "    (16): MaxPool2d(kernel_size=2, stride=2, padding=0, dilation=1, ceil_mode=False)\n",
       "    (17): Conv2d(256, 512, kernel_size=(3, 3), stride=(1, 1), padding=(1, 1))\n",
       "    (18): ReLU(inplace=True)\n",
       "    (19): Conv2d(512, 512, kernel_size=(3, 3), stride=(1, 1), padding=(1, 1))\n",
       "    (20): ReLU(inplace=True)\n",
       "    (21): Conv2d(512, 512, kernel_size=(3, 3), stride=(1, 1), padding=(1, 1))\n",
       "    (22): ReLU(inplace=True)\n",
       "    (23): MaxPool2d(kernel_size=2, stride=2, padding=0, dilation=1, ceil_mode=False)\n",
       "    (24): Conv2d(512, 512, kernel_size=(3, 3), stride=(1, 1), padding=(1, 1))\n",
       "    (25): ReLU(inplace=True)\n",
       "    (26): Conv2d(512, 512, kernel_size=(3, 3), stride=(1, 1), padding=(1, 1))\n",
       "    (27): ReLU(inplace=True)\n",
       "    (28): Conv2d(512, 512, kernel_size=(3, 3), stride=(1, 1), padding=(1, 1))\n",
       "    (29): ReLU(inplace=True)\n",
       "    (30): MaxPool2d(kernel_size=2, stride=2, padding=0, dilation=1, ceil_mode=False)\n",
       "  )\n",
       "  (avgpool): AdaptiveAvgPool2d(output_size=(7, 7))\n",
       "  (classifier): Sequential(\n",
       "    (0): Linear(in_features=25088, out_features=4096, bias=True)\n",
       "    (1): ReLU(inplace=True)\n",
       "    (2): Dropout(p=0.5, inplace=False)\n",
       "    (3): Linear(in_features=4096, out_features=4096, bias=True)\n",
       "    (4): ReLU(inplace=True)\n",
       "    (5): Dropout(p=0.5, inplace=False)\n",
       "    (6): Linear(in_features=4096, out_features=1000, bias=True)\n",
       "  )\n",
       ")"
      ]
     },
     "execution_count": 11,
     "metadata": {},
     "output_type": "execute_result"
    }
   ],
   "source": [
    "model = models.vgg16(weights=models.VGG16_Weights.IMAGENET1K_V1)\n",
    "model"
   ]
  },
  {
   "cell_type": "code",
   "execution_count": 12,
   "id": "210e2e06-8e85-43ed-9748-a790824a8bfb",
   "metadata": {},
   "outputs": [],
   "source": [
    "input_lastLayer = model.classifier[6].in_features\n",
    "model.classifier[6] = nn.Linear(input_lastLayer,10)\n",
    "model = model.to(device)\n",
    "criterion = nn.CrossEntropyLoss()\n",
    "optimizer = torch.optim.SGD(model.parameters(), lr = learning_rate, momentum=0.9,weight_decay=5e-4)"
   ]
  },
  {
   "cell_type": "code",
   "execution_count": 13,
   "id": "71095ed4-7697-485a-82cc-50db4e33c216",
   "metadata": {},
   "outputs": [],
   "source": [
    "early_stopping_patience = 20\n",
    "# we set it to infinite at the beeginning any number is smaller than infnite\n",
    "best_val_loss = float('inf')\n",
    "patience_counter = 0"
   ]
  },
  {
   "cell_type": "code",
   "execution_count": 14,
   "id": "b6c154ce-1d07-43c3-9555-08f752d8c198",
   "metadata": {},
   "outputs": [],
   "source": [
    "def accuracy(outputs, targets):\n",
    "    _, predicted = torch.max(outputs, 1)  # get the class index with the highest probability\n",
    "    correct = (predicted == targets).sum().item()\n",
    "    total = targets.size(0)\n",
    "    return correct / total"
   ]
  },
  {
   "cell_type": "markdown",
   "id": "b540c70a-553e-4412-9e7b-3bb7d7bb3758",
   "metadata": {},
   "source": [
    "#### Train"
   ]
  },
  {
   "cell_type": "code",
   "execution_count": 15,
   "id": "0a8b4bd0-2cb1-463c-bd52-5959df75c0ee",
   "metadata": {},
   "outputs": [
    {
     "name": "stdout",
     "output_type": "stream",
     "text": [
      "Epoch [1/2000], Train Loss: 0.4814, Val Loss: 0.2879, Train Accuracy: 83.49%, Val Accuracy: 90.25%\n",
      "Epoch [2/2000], Train Loss: 0.2385, Val Loss: 0.2346, Train Accuracy: 91.85%, Val Accuracy: 92.16%\n",
      "Epoch [3/2000], Train Loss: 0.1518, Val Loss: 0.2495, Train Accuracy: 94.68%, Val Accuracy: 91.74%\n",
      "Epoch [4/2000], Train Loss: 0.1074, Val Loss: 0.2311, Train Accuracy: 96.37%, Val Accuracy: 92.79%\n",
      "Epoch [5/2000], Train Loss: 0.0713, Val Loss: 0.2452, Train Accuracy: 97.56%, Val Accuracy: 93.07%\n",
      "Epoch [6/2000], Train Loss: 0.0579, Val Loss: 0.2629, Train Accuracy: 97.95%, Val Accuracy: 92.64%\n",
      "Epoch [7/2000], Train Loss: 0.0344, Val Loss: 0.2485, Train Accuracy: 98.80%, Val Accuracy: 93.71%\n",
      "Epoch [8/2000], Train Loss: 0.0302, Val Loss: 0.2793, Train Accuracy: 98.92%, Val Accuracy: 93.30%\n",
      "Epoch [9/2000], Train Loss: 0.0226, Val Loss: 0.2704, Train Accuracy: 99.20%, Val Accuracy: 93.14%\n",
      "Epoch [10/2000], Train Loss: 0.0191, Val Loss: 0.2809, Train Accuracy: 99.39%, Val Accuracy: 93.24%\n",
      "Epoch [11/2000], Train Loss: 0.0159, Val Loss: 0.2828, Train Accuracy: 99.46%, Val Accuracy: 93.51%\n",
      "Epoch [12/2000], Train Loss: 0.0134, Val Loss: 0.2974, Train Accuracy: 99.56%, Val Accuracy: 93.26%\n",
      "Epoch [13/2000], Train Loss: 0.0123, Val Loss: 0.2829, Train Accuracy: 99.62%, Val Accuracy: 93.30%\n",
      "Epoch [14/2000], Train Loss: 0.0089, Val Loss: 0.2880, Train Accuracy: 99.72%, Val Accuracy: 93.58%\n",
      "Epoch [15/2000], Train Loss: 0.0059, Val Loss: 0.3198, Train Accuracy: 99.81%, Val Accuracy: 93.35%\n",
      "Epoch [16/2000], Train Loss: 0.0092, Val Loss: 0.2818, Train Accuracy: 99.73%, Val Accuracy: 93.81%\n",
      "Epoch [17/2000], Train Loss: 0.0034, Val Loss: 0.3191, Train Accuracy: 99.92%, Val Accuracy: 93.79%\n",
      "Epoch [18/2000], Train Loss: 0.0057, Val Loss: 0.3912, Train Accuracy: 99.84%, Val Accuracy: 92.36%\n",
      "Epoch [19/2000], Train Loss: 0.0065, Val Loss: 0.2879, Train Accuracy: 99.81%, Val Accuracy: 93.67%\n",
      "Epoch [20/2000], Train Loss: 0.0061, Val Loss: 0.2852, Train Accuracy: 99.80%, Val Accuracy: 93.69%\n",
      "Epoch [21/2000], Train Loss: 0.0051, Val Loss: 0.3058, Train Accuracy: 99.83%, Val Accuracy: 93.58%\n",
      "Epoch [22/2000], Train Loss: 0.0026, Val Loss: 0.3070, Train Accuracy: 99.94%, Val Accuracy: 93.70%\n",
      "Epoch [23/2000], Train Loss: 0.0048, Val Loss: 0.2920, Train Accuracy: 99.83%, Val Accuracy: 93.94%\n",
      "Epoch [24/2000], Train Loss: 0.0042, Val Loss: 0.2897, Train Accuracy: 99.88%, Val Accuracy: 93.87%\n",
      "Early stopping: Validation loss hasn't improved for 20 epochs.\n"
     ]
    }
   ],
   "source": [
    "num_epochs = 2000\n",
    "patience_counter = 0\n",
    "path='models/pretrained-VGG16-CIFAR10-version2'\n",
    "\n",
    "for epoch in range(num_epochs):\n",
    "    model.train()\n",
    "    train_loss = 0.0\n",
    "    correct_predictions = 0\n",
    "    total_predictions = 0\n",
    "    \n",
    "    for data in train_loader:\n",
    "        inputs, targets = data\n",
    "        inputs, targets = inputs.to(device), targets.to(device)\n",
    "        \n",
    "        optimizer.zero_grad()\n",
    "        outputs = model(inputs)\n",
    "        loss = criterion(outputs, targets)\n",
    "        loss.backward()\n",
    "        optimizer.step()\n",
    "        train_loss += loss.item()\n",
    "        \n",
    "        correct_predictions += accuracy(outputs, targets) * targets.size(0)\n",
    "        total_predictions += targets.size(0)\n",
    "\n",
    "    # Calculate validation loss\n",
    "    model.eval()\n",
    "    val_loss = 0.0\n",
    "    val_correct_predictions = 0\n",
    "    val_total_predictions = 0\n",
    "    \n",
    "    with torch.no_grad():\n",
    "        for data in val_loader:\n",
    "            inputs, targets = data\n",
    "            inputs, targets = inputs.to(device), targets.to(device)\n",
    "            \n",
    "            outputs = model(inputs)\n",
    "            loss = criterion(outputs, targets)\n",
    "            val_loss += loss.item()\n",
    "            \n",
    "            val_correct_predictions += accuracy(outputs, targets) * targets.size(0)\n",
    "            val_total_predictions += targets.size(0)\n",
    "            \n",
    "    train_loss /= len(train_loader)\n",
    "    val_loss /= len(val_loader)\n",
    "    \n",
    "    train_accuracy = (correct_predictions / total_predictions) * 100\n",
    "    val_accuracy = (val_correct_predictions / val_total_predictions) * 100\n",
    "    \n",
    "    #print(f'Epoch [{epoch + 1}/{num_epochs}], Train Loss: {train_loss:.4f}, Val Loss: {val_loss:.4f}')\n",
    "    print(f'Epoch [{epoch + 1}/{num_epochs}], Train Loss: {train_loss:.4f}, Val Loss: {val_loss:.4f}, '\n",
    "          f'Train Accuracy: {train_accuracy:.2f}%, Val Accuracy: {val_accuracy:.2f}%')\n",
    "    \n",
    "    # Early stopping check\n",
    "    if val_loss < best_val_loss:\n",
    "        torch.save(model.state_dict(), path)\n",
    "        best_val_loss = val_loss\n",
    "        patience_counter = 0\n",
    "    else:\n",
    "        patience_counter += 1\n",
    "        if patience_counter >= early_stopping_patience:\n",
    "            print(\"Early stopping: Validation loss hasn't improved for\", early_stopping_patience, \"epochs.\")\n",
    "            break\n"
   ]
  },
  {
   "cell_type": "markdown",
   "id": "21d0251f-61ff-417e-9648-70d8a59ae3ab",
   "metadata": {},
   "source": [
    "#### Test"
   ]
  },
  {
   "cell_type": "code",
   "execution_count": 43,
   "id": "2a3c747d-9f13-4d52-adea-f07d5047f9d9",
   "metadata": {},
   "outputs": [
    {
     "name": "stdout",
     "output_type": "stream",
     "text": [
      "Overall accuracy 94.11%\n"
     ]
    }
   ],
   "source": [
    "with torch.no_grad():   \n",
    "    number_corrects = 0\n",
    "    number_samples = 0    \n",
    "    for i, (test_images_set , test_labels_set) in enumerate(test_loader):\n",
    "        test_images_set = test_images_set.to(device)\n",
    "        test_labels_set = test_labels_set.to(device)\n",
    "    \n",
    "        y_predicted = model(test_images_set)        \n",
    "        labels_predicted = y_predicted.argmax(axis = 1)        \n",
    "        number_corrects += (labels_predicted==test_labels_set).sum().item()\n",
    "        number_samples += test_labels_set.size(0)    \n",
    "    print(f'Overall accuracy {(number_corrects / number_samples)*100}%')\n",
    "    accuracy_resize = (number_corrects / number_samples)*100"
   ]
  },
  {
   "cell_type": "code",
   "execution_count": 44,
   "id": "b720db9c-e12c-46ea-87da-0f60e997389d",
   "metadata": {},
   "outputs": [
    {
     "data": {
      "image/png": "[encoded data removed]",
      "text/plain": [
       "<Figure size 1000x800 with 2 Axes>"
      ]
     },
     "metadata": {},
     "output_type": "display_data"
    }
   ],
   "source": [
    "heatmap = pd.DataFrame(data=0,index=classes,columns=classes)\n",
    "with torch.no_grad():\n",
    "    for images, labels in test_loader:\n",
    "        images, labels = images.to(device), labels.to(device)\n",
    "        outputs = model(images)\n",
    "        _, predicted = torch.max(outputs, 1)\n",
    "        c = (predicted == labels).squeeze()\n",
    "        for i in range(batch_size):\n",
    "            true_label = labels[i].item()\n",
    "            predicted_label = predicted[i].item()\n",
    "            heatmap.iloc[true_label,predicted_label] += 1\n",
    "            \n",
    "_, ax = plt.subplots(figsize=(10, 8))\n",
    "ax = sns.heatmap(heatmap, annot=True, fmt=\"d\",cmap=\"YlGnBu\")\n",
    "plt.show()"
   ]
  },
  {
   "cell_type": "code",
   "execution_count": 45,
   "id": "34be5505-9eb7-4a5b-932b-39aad7a46d19",
   "metadata": {},
   "outputs": [],
   "source": [
    "path = 'pretrained_VGG16_cifar10.pth'\n",
    "torch.save(model.state_dict(), path)"
   ]
  },
  {
   "cell_type": "markdown",
   "id": "6ec5bd6b-1ee3-420e-804e-7eb8c7a49d2d",
   "metadata": {},
   "source": [
    "## VGG16 TRAINED DIRECTLY ON CIFAR10"
   ]
  },
  {
   "cell_type": "markdown",
   "id": "1ad1ac96-50bb-4610-992f-9dca87212774",
   "metadata": {},
   "source": [
    "In this second part, we define a second VGG16 architecture which hasn't been previously pretrained. However, we still need to modify the last FC-layer by changing the final number of classes. For this reason the code is identical we just load a not pretrained VGG16 Neural network"
   ]
  },
  {
   "cell_type": "code",
   "execution_count": 46,
   "id": "8b5e1c51-744b-46a4-83de-4c11fd1e337f",
   "metadata": {},
   "outputs": [],
   "source": [
    "from torch.utils.data import DataLoader, random_split\n",
    "from torchvision.datasets import CIFAR10"
   ]
  },
  {
   "cell_type": "code",
   "execution_count": 47,
   "id": "5f160818-749b-4778-af41-3f0301060895",
   "metadata": {},
   "outputs": [],
   "source": [
    "abs_data_path = 'newpenny/XAI/pytorch/zennit/docs/source/data/CIFAR10'"
   ]
  },
  {
   "cell_type": "code",
   "execution_count": 48,
   "id": "11ad0dc8-ba87-4a72-b5d7-db2ae4d5a190",
   "metadata": {},
   "outputs": [
    {
     "name": "stdout",
     "output_type": "stream",
     "text": [
      "Files already downloaded and verified\n"
     ]
    }
   ],
   "source": [
    "transform = transforms.Compose([\n",
    "    transforms.Resize(size=(224, 224)),\n",
    "    transforms.ToTensor(),\n",
    "    transforms.Normalize( \n",
    "       (0.4914, 0.4822, 0.4465), (0.2023, 0.1994, 0.2010) \n",
    "    )\n",
    "])\n",
    "\n",
    "cifar_dataset = CIFAR10(root=abs_data_path, \n",
    "                        train=True, \n",
    "                        transform=transform, \n",
    "                        download=True)\n",
    "\n",
    "# split the dataset into train and validation sets\n",
    "train_size = int(0.8 * len(cifar_dataset))\n",
    "val_size = len(cifar_dataset) - train_size\n",
    "train_dataset, val_dataset = random_split(cifar_dataset, [train_size, val_size])\n",
    "\n",
    "# create DataLoaders\n",
    "batch_size = 40\n",
    "train_loader = DataLoader(train_dataset, batch_size=batch_size, shuffle=True)\n",
    "val_loader = DataLoader(val_dataset, batch_size=batch_size, shuffle=False)"
   ]
  },
  {
   "cell_type": "code",
   "execution_count": 49,
   "id": "59152bce-0ba0-4758-80f8-7efeb1037349",
   "metadata": {},
   "outputs": [
    {
     "name": "stdout",
     "output_type": "stream",
     "text": [
      "Using cuda:7 device\n"
     ]
    }
   ],
   "source": [
    "use_cuda = torch.cuda.is_available()\n",
    "cuda_index = torch.cuda.device_count() - 1\n",
    "device = torch.device(f\"cuda:{cuda_index}\" if use_cuda else \"cpu\")\n",
    "print(f\"Using {device} device\")"
   ]
  },
  {
   "cell_type": "code",
   "execution_count": 50,
   "id": "b54c97a3-5771-41da-a1e8-73500fcbe6fb",
   "metadata": {},
   "outputs": [
    {
     "name": "stdout",
     "output_type": "stream",
     "text": [
      "Files already downloaded and verified\n"
     ]
    }
   ],
   "source": [
    "test_dataset = torchvision.datasets.CIFAR10(root=abs_data_path, \n",
    "                                            train=False, \n",
    "                                            download=True, \n",
    "                                            transform=transform)\n",
    "\n",
    "test_loader = torch.utils.data.DataLoader(test_dataset, batch_size=batch_size, shuffle=False)\n",
    "\n",
    "classes = ('plane', 'car', 'bird', 'cat', 'deer', \n",
    "           'dog', 'frog', 'horse', 'ship', 'truck')"
   ]
  },
  {
   "cell_type": "code",
   "execution_count": 51,
   "id": "4520be0f-43d1-45d6-bed2-3d22ae1026ec",
   "metadata": {},
   "outputs": [],
   "source": [
    "batch_size = 40\n",
    "learning_rate = 0.001"
   ]
  },
  {
   "cell_type": "code",
   "execution_count": 52,
   "id": "50cee7e6-dcd2-47af-a8db-edfd2b13acdb",
   "metadata": {},
   "outputs": [
    {
     "name": "stderr",
     "output_type": "stream",
     "text": [
      "/home/lorenzocapelli/miniconda3/envs/tesi/lib/python3.10/site-packages/torchvision/models/_utils.py:208: UserWarning: The parameter 'pretrained' is deprecated since 0.13 and may be removed in the future, please use 'weights' instead.\n",
      "  warnings.warn(\n",
      "/home/lorenzocapelli/miniconda3/envs/tesi/lib/python3.10/site-packages/torchvision/models/_utils.py:223: UserWarning: Arguments other than a weight enum or `None` for 'weights' are deprecated since 0.13 and may be removed in the future. The current behavior is equivalent to passing `weights=None`.\n",
      "  warnings.warn(msg)\n"
     ]
    },
    {
     "data": {
      "text/plain": [
       "VGG(\n",
       "  (features): Sequential(\n",
       "    (0): Conv2d(3, 64, kernel_size=(3, 3), stride=(1, 1), padding=(1, 1))\n",
       "    (1): ReLU(inplace=True)\n",
       "    (2): Conv2d(64, 64, kernel_size=(3, 3), stride=(1, 1), padding=(1, 1))\n",
       "    (3): ReLU(inplace=True)\n",
       "    (4): MaxPool2d(kernel_size=2, stride=2, padding=0, dilation=1, ceil_mode=False)\n",
       "    (5): Conv2d(64, 128, kernel_size=(3, 3), stride=(1, 1), padding=(1, 1))\n",
       "    (6): ReLU(inplace=True)\n",
       "    (7): Conv2d(128, 128, kernel_size=(3, 3), stride=(1, 1), padding=(1, 1))\n",
       "    (8): ReLU(inplace=True)\n",
       "    (9): MaxPool2d(kernel_size=2, stride=2, padding=0, dilation=1, ceil_mode=False)\n",
       "    (10): Conv2d(128, 256, kernel_size=(3, 3), stride=(1, 1), padding=(1, 1))\n",
       "    (11): ReLU(inplace=True)\n",
       "    (12): Conv2d(256, 256, kernel_size=(3, 3), stride=(1, 1), padding=(1, 1))\n",
       "    (13): ReLU(inplace=True)\n",
       "    (14): Conv2d(256, 256, kernel_size=(3, 3), stride=(1, 1), padding=(1, 1))\n",
       "    (15): ReLU(inplace=True)\n",
       "    (16): MaxPool2d(kernel_size=2, stride=2, padding=0, dilation=1, ceil_mode=False)\n",
       "    (17): Conv2d(256, 512, kernel_size=(3, 3), stride=(1, 1), padding=(1, 1))\n",
       "    (18): ReLU(inplace=True)\n",
       "    (19): Conv2d(512, 512, kernel_size=(3, 3), stride=(1, 1), padding=(1, 1))\n",
       "    (20): ReLU(inplace=True)\n",
       "    (21): Conv2d(512, 512, kernel_size=(3, 3), stride=(1, 1), padding=(1, 1))\n",
       "    (22): ReLU(inplace=True)\n",
       "    (23): MaxPool2d(kernel_size=2, stride=2, padding=0, dilation=1, ceil_mode=False)\n",
       "    (24): Conv2d(512, 512, kernel_size=(3, 3), stride=(1, 1), padding=(1, 1))\n",
       "    (25): ReLU(inplace=True)\n",
       "    (26): Conv2d(512, 512, kernel_size=(3, 3), stride=(1, 1), padding=(1, 1))\n",
       "    (27): ReLU(inplace=True)\n",
       "    (28): Conv2d(512, 512, kernel_size=(3, 3), stride=(1, 1), padding=(1, 1))\n",
       "    (29): ReLU(inplace=True)\n",
       "    (30): MaxPool2d(kernel_size=2, stride=2, padding=0, dilation=1, ceil_mode=False)\n",
       "  )\n",
       "  (avgpool): AdaptiveAvgPool2d(output_size=(7, 7))\n",
       "  (classifier): Sequential(\n",
       "    (0): Linear(in_features=25088, out_features=4096, bias=True)\n",
       "    (1): ReLU(inplace=True)\n",
       "    (2): Dropout(p=0.5, inplace=False)\n",
       "    (3): Linear(in_features=4096, out_features=4096, bias=True)\n",
       "    (4): ReLU(inplace=True)\n",
       "    (5): Dropout(p=0.5, inplace=False)\n",
       "    (6): Linear(in_features=4096, out_features=1000, bias=True)\n",
       "  )\n",
       ")"
      ]
     },
     "execution_count": 52,
     "metadata": {},
     "output_type": "execute_result"
    }
   ],
   "source": [
    "model = models.vgg16(pretrained = False)\n",
    "model"
   ]
  },
  {
   "cell_type": "code",
   "execution_count": 53,
   "id": "a01c5471-2261-4214-849f-ef7218799cee",
   "metadata": {},
   "outputs": [],
   "source": [
    "input_lastLayer = model.classifier[6].in_features\n",
    "model.classifier[6] = nn.Linear(input_lastLayer,10)\n",
    "model = model.to(device)\n",
    "criterion = nn.CrossEntropyLoss()\n",
    "optimizer = torch.optim.SGD(model.parameters(),lr = learning_rate, momentum=0.9,weight_decay=5e-4)\n"
   ]
  },
  {
   "cell_type": "code",
   "execution_count": 54,
   "id": "70e1b122-7cff-46af-8c09-7acc7830aa41",
   "metadata": {},
   "outputs": [],
   "source": [
    "early_stopping_patience = 20\n",
    "# we set it to infinite at the beeginning any number is smaller than infnite\n",
    "best_val_loss = float('inf')\n",
    "patience_counter = 0"
   ]
  },
  {
   "cell_type": "code",
   "execution_count": 55,
   "id": "31e918e3-2ceb-4f60-ba8f-4124c8c06b19",
   "metadata": {},
   "outputs": [],
   "source": [
    "def accuracy(outputs, targets):\n",
    "    _, predicted = torch.max(outputs, 1)  # get the class index with the highest probability\n",
    "    correct = (predicted == targets).sum().item()\n",
    "    total = targets.size(0)\n",
    "    return correct / total"
   ]
  },
  {
   "cell_type": "code",
   "execution_count": 56,
   "id": "666cdef2-95b5-46ee-83d5-4bd37130bdd5",
   "metadata": {},
   "outputs": [
    {
     "name": "stdout",
     "output_type": "stream",
     "text": [
      "Epoch [1/100], Train Loss: 1.8967, Val Loss: 1.5789, Train Accuracy: 29.61%, Val Accuracy: 40.89%\n",
      "Epoch [2/100], Train Loss: 1.4952, Val Loss: 1.3431, Train Accuracy: 45.40%, Val Accuracy: 51.27%\n",
      "Epoch [3/100], Train Loss: 1.3116, Val Loss: 1.2217, Train Accuracy: 52.56%, Val Accuracy: 56.18%\n",
      "Epoch [4/100], Train Loss: 1.1444, Val Loss: 1.0391, Train Accuracy: 58.95%, Val Accuracy: 63.68%\n",
      "Epoch [5/100], Train Loss: 0.9883, Val Loss: 0.9587, Train Accuracy: 65.29%, Val Accuracy: 66.43%\n",
      "Epoch [6/100], Train Loss: 0.8564, Val Loss: 0.8617, Train Accuracy: 70.02%, Val Accuracy: 69.87%\n",
      "Epoch [7/100], Train Loss: 0.7514, Val Loss: 0.8368, Train Accuracy: 73.62%, Val Accuracy: 69.78%\n",
      "Epoch [8/100], Train Loss: 0.6460, Val Loss: 0.7846, Train Accuracy: 77.34%, Val Accuracy: 72.91%\n",
      "Epoch [9/100], Train Loss: 0.5598, Val Loss: 0.6933, Train Accuracy: 80.51%, Val Accuracy: 76.46%\n",
      "Epoch [10/100], Train Loss: 0.4668, Val Loss: 0.6750, Train Accuracy: 83.68%, Val Accuracy: 76.73%\n",
      "Epoch [11/100], Train Loss: 0.3884, Val Loss: 0.6777, Train Accuracy: 86.41%, Val Accuracy: 77.74%\n",
      "Epoch [12/100], Train Loss: 0.3104, Val Loss: 0.7176, Train Accuracy: 89.04%, Val Accuracy: 77.82%\n",
      "Epoch [13/100], Train Loss: 0.2459, Val Loss: 0.7815, Train Accuracy: 91.32%, Val Accuracy: 77.22%\n",
      "Epoch [14/100], Train Loss: 0.2009, Val Loss: 0.7720, Train Accuracy: 92.97%, Val Accuracy: 78.01%\n",
      "Epoch [15/100], Train Loss: 0.1638, Val Loss: 0.7862, Train Accuracy: 94.34%, Val Accuracy: 78.96%\n",
      "Epoch [16/100], Train Loss: 0.1350, Val Loss: 0.8591, Train Accuracy: 95.28%, Val Accuracy: 77.88%\n",
      "Epoch [17/100], Train Loss: 0.1153, Val Loss: 0.8570, Train Accuracy: 96.00%, Val Accuracy: 78.93%\n",
      "Epoch [18/100], Train Loss: 0.0975, Val Loss: 1.0177, Train Accuracy: 96.69%, Val Accuracy: 78.76%\n",
      "Epoch [19/100], Train Loss: 0.0882, Val Loss: 0.8937, Train Accuracy: 96.95%, Val Accuracy: 78.61%\n",
      "Epoch [20/100], Train Loss: 0.0729, Val Loss: 0.9131, Train Accuracy: 97.40%, Val Accuracy: 78.76%\n",
      "Epoch [21/100], Train Loss: 0.0663, Val Loss: 0.9778, Train Accuracy: 97.73%, Val Accuracy: 78.91%\n",
      "Epoch [22/100], Train Loss: 0.0572, Val Loss: 0.9568, Train Accuracy: 98.09%, Val Accuracy: 79.74%\n",
      "Epoch [23/100], Train Loss: 0.0519, Val Loss: 0.9364, Train Accuracy: 98.33%, Val Accuracy: 79.04%\n",
      "Epoch [24/100], Train Loss: 0.0472, Val Loss: 1.0425, Train Accuracy: 98.43%, Val Accuracy: 78.92%\n",
      "Epoch [25/100], Train Loss: 0.0417, Val Loss: 1.0155, Train Accuracy: 98.56%, Val Accuracy: 79.10%\n",
      "Epoch [26/100], Train Loss: 0.0370, Val Loss: 1.1169, Train Accuracy: 98.83%, Val Accuracy: 78.07%\n",
      "Epoch [27/100], Train Loss: 0.0323, Val Loss: 1.0692, Train Accuracy: 98.88%, Val Accuracy: 79.70%\n",
      "Epoch [28/100], Train Loss: 0.0325, Val Loss: 1.0860, Train Accuracy: 98.92%, Val Accuracy: 79.74%\n",
      "Epoch [29/100], Train Loss: 0.0311, Val Loss: 1.0449, Train Accuracy: 98.97%, Val Accuracy: 79.61%\n",
      "Epoch [30/100], Train Loss: 0.0246, Val Loss: 1.0211, Train Accuracy: 99.19%, Val Accuracy: 80.17%\n",
      "Early stopping: Validation loss hasn't improved for 20 epochs.\n"
     ]
    }
   ],
   "source": [
    "num_epochs = 100\n",
    "patience_counter = 0\n",
    "\n",
    "for epoch in range(num_epochs):\n",
    "    model.train()\n",
    "    train_loss = 0.0\n",
    "    correct_predictions = 0\n",
    "    total_predictions = 0\n",
    "    \n",
    "    for data in train_loader:\n",
    "        inputs, targets = data\n",
    "        inputs, targets = inputs.to(device), targets.to(device)\n",
    "        \n",
    "        optimizer.zero_grad()\n",
    "        outputs = model(inputs)\n",
    "        loss = criterion(outputs, targets)\n",
    "        loss.backward()\n",
    "        optimizer.step()\n",
    "        train_loss += loss.item()\n",
    "        \n",
    "        correct_predictions += accuracy(outputs, targets) * targets.size(0)\n",
    "        total_predictions += targets.size(0)\n",
    "\n",
    "    # Calculate validation loss\n",
    "    model.eval()\n",
    "    val_loss = 0.0\n",
    "    val_correct_predictions = 0\n",
    "    val_total_predictions = 0\n",
    "    \n",
    "    with torch.no_grad():\n",
    "        for data in val_loader:\n",
    "            inputs, targets = data\n",
    "            inputs, targets = inputs.to(device), targets.to(device)\n",
    "            \n",
    "            outputs = model(inputs)\n",
    "            loss = criterion(outputs, targets)\n",
    "            val_loss += loss.item()\n",
    "            \n",
    "            val_correct_predictions += accuracy(outputs, targets) * targets.size(0)\n",
    "            val_total_predictions += targets.size(0)\n",
    "            \n",
    "    train_loss /= len(train_loader)\n",
    "    val_loss /= len(val_loader)\n",
    "    \n",
    "    train_accuracy = (correct_predictions / total_predictions) * 100\n",
    "    val_accuracy = (val_correct_predictions / val_total_predictions) * 100\n",
    "    \n",
    "    #print(f'Epoch [{epoch + 1}/{num_epochs}], Train Loss: {train_loss:.4f}, Val Loss: {val_loss:.4f}')\n",
    "    print(f'Epoch [{epoch + 1}/{num_epochs}], Train Loss: {train_loss:.4f}, Val Loss: {val_loss:.4f}, '\n",
    "          f'Train Accuracy: {train_accuracy:.2f}%, Val Accuracy: {val_accuracy:.2f}%')\n",
    "    \n",
    "    # Early stopping check\n",
    "    if val_loss < best_val_loss:\n",
    "        best_val_loss = val_loss\n",
    "        patience_counter = 0\n",
    "    else:\n",
    "        patience_counter += 1\n",
    "        if patience_counter >= early_stopping_patience:\n",
    "            print(\"Early stopping: Validation loss hasn't improved for\", early_stopping_patience, \"epochs.\")\n",
    "            break\n"
   ]
  },
  {
   "cell_type": "code",
   "execution_count": 57,
   "id": "726d6083-4d98-4e8f-830e-f0c929eea566",
   "metadata": {},
   "outputs": [
    {
     "name": "stdout",
     "output_type": "stream",
     "text": [
      "Overall accuracy 78.89%\n"
     ]
    }
   ],
   "source": [
    "with torch.no_grad():   \n",
    "    number_corrects = 0\n",
    "    number_samples = 0    \n",
    "    for i, (test_images_set , test_labels_set) in enumerate(test_loader):\n",
    "        test_images_set = test_images_set.to(device)\n",
    "        test_labels_set = test_labels_set.to(device)\n",
    "    \n",
    "        y_predicted = model(test_images_set)        \n",
    "        labels_predicted = y_predicted.argmax(axis = 1)        \n",
    "        number_corrects += (labels_predicted==test_labels_set).sum().item()\n",
    "        number_samples += test_labels_set.size(0)    \n",
    "    print(f'Overall accuracy {(number_corrects / number_samples)*100}%')"
   ]
  },
  {
   "cell_type": "code",
   "execution_count": 58,
   "id": "cb2a4b39-c9f1-4a33-b564-a37ce5ed71bb",
   "metadata": {},
   "outputs": [
    {
     "data": {
      "image/png": "[encoded data removed]",
      "text/plain": [
       "<Figure size 1000x800 with 2 Axes>"
      ]
     },
     "metadata": {},
     "output_type": "display_data"
    }
   ],
   "source": [
    "heatmap = pd.DataFrame(data=0,index=classes,columns=classes)\n",
    "with torch.no_grad():\n",
    "    for images, labels in test_loader:\n",
    "        images, labels = images.to(device), labels.to(device)\n",
    "        outputs = model(images)\n",
    "        _, predicted = torch.max(outputs, 1)\n",
    "        c = (predicted == labels).squeeze()\n",
    "        for i in range(batch_size):\n",
    "            true_label = labels[i].item()\n",
    "            predicted_label = predicted[i].item()\n",
    "            heatmap.iloc[true_label,predicted_label] += 1\n",
    "            \n",
    "_, ax = plt.subplots(figsize=(10, 8))\n",
    "ax = sns.heatmap(heatmap, annot=True, fmt=\"d\",cmap=\"YlGnBu\")\n",
    "plt.show()"
   ]
  },
  {
   "cell_type": "code",
   "execution_count": null,
   "id": "c539a10f-e423-48c5-8a62-e6f7a6dd257a",
   "metadata": {},
   "outputs": [],
   "source": []
  }
 ],
 "metadata": {
  "kernelspec": {
   "display_name": "Python 3 (ipykernel)",
   "language": "python",
   "name": "python3"
  },
  "language_info": {
   "codemirror_mode": {
    "name": "ipython",
    "version": 3
   },
   "file_extension": ".py",
   "mimetype": "text/x-python",
   "name": "python",
   "nbconvert_exporter": "python",
   "pygments_lexer": "ipython3",
   "version": "3.12.7"
  }
 },
 "nbformat": 4,
 "nbformat_minor": 5
}
